{
 "cells": [
  {
   "cell_type": "code",
   "execution_count": 3,
   "metadata": {},
   "outputs": [
    {
     "data": {
      "text/html": [
       "<div>\n",
       "<style scoped>\n",
       "    .dataframe tbody tr th:only-of-type {\n",
       "        vertical-align: middle;\n",
       "    }\n",
       "\n",
       "    .dataframe tbody tr th {\n",
       "        vertical-align: top;\n",
       "    }\n",
       "\n",
       "    .dataframe thead th {\n",
       "        text-align: right;\n",
       "    }\n",
       "</style>\n",
       "<table border=\"1\" class=\"dataframe\">\n",
       "  <thead>\n",
       "    <tr style=\"text-align: right;\">\n",
       "      <th></th>\n",
       "      <th>activity_date</th>\n",
       "      <th>employee_id</th>\n",
       "      <th>facility_address</th>\n",
       "      <th>facility_city</th>\n",
       "      <th>facility_id</th>\n",
       "      <th>facility_name</th>\n",
       "      <th>facility_state</th>\n",
       "      <th>facility_zip</th>\n",
       "      <th>grade</th>\n",
       "      <th>owner_id</th>\n",
       "      <th>owner_name</th>\n",
       "      <th>pe_description</th>\n",
       "      <th>program_element_pe</th>\n",
       "      <th>program_name</th>\n",
       "      <th>program_status</th>\n",
       "      <th>record_id</th>\n",
       "      <th>score</th>\n",
       "      <th>serial_number</th>\n",
       "      <th>service_code</th>\n",
       "      <th>service_description</th>\n",
       "    </tr>\n",
       "  </thead>\n",
       "  <tbody>\n",
       "    <tr>\n",
       "      <th>0</th>\n",
       "      <td>2017-05-09</td>\n",
       "      <td>EE0000593</td>\n",
       "      <td>17660 CHATSWORTH ST</td>\n",
       "      <td>GRANADA HILLS</td>\n",
       "      <td>FA0175397</td>\n",
       "      <td>HOVIK'S FAMOUS MEAT &amp; DELI</td>\n",
       "      <td>CA</td>\n",
       "      <td>91344</td>\n",
       "      <td>A</td>\n",
       "      <td>OW0181955</td>\n",
       "      <td>JOHN'S FAMOUS MEAT &amp; DELI INC.</td>\n",
       "      <td>FOOD MKT RETAIL (25-1,999 SF) HIGH RISK</td>\n",
       "      <td>1612</td>\n",
       "      <td>HOVIK'S FAMOUS MEAT &amp; DELI</td>\n",
       "      <td>ACTIVE</td>\n",
       "      <td>PR0168541</td>\n",
       "      <td>98</td>\n",
       "      <td>DAHDRUQZO</td>\n",
       "      <td>1</td>\n",
       "      <td>ROUTINE INSPECTION</td>\n",
       "    </tr>\n",
       "    <tr>\n",
       "      <th>1</th>\n",
       "      <td>2017-04-10</td>\n",
       "      <td>EE0000126</td>\n",
       "      <td>3615 PACIFIC COAST HWY</td>\n",
       "      <td>TORRANCE</td>\n",
       "      <td>FA0242138</td>\n",
       "      <td>SHAKEY'S PIZZA</td>\n",
       "      <td>CA</td>\n",
       "      <td>90505</td>\n",
       "      <td>A</td>\n",
       "      <td>OW0237843</td>\n",
       "      <td>SCO, LLC</td>\n",
       "      <td>RESTAURANT (61-150) SEATS HIGH RISK</td>\n",
       "      <td>1638</td>\n",
       "      <td>SHAKEY'S PIZZA</td>\n",
       "      <td>ACTIVE</td>\n",
       "      <td>PR0190290</td>\n",
       "      <td>94</td>\n",
       "      <td>DAL3SBUE0</td>\n",
       "      <td>1</td>\n",
       "      <td>ROUTINE INSPECTION</td>\n",
       "    </tr>\n",
       "    <tr>\n",
       "      <th>2</th>\n",
       "      <td>2017-04-04</td>\n",
       "      <td>EE0000593</td>\n",
       "      <td>17515 CHATSWORTH ST</td>\n",
       "      <td>GRANADA HILLS</td>\n",
       "      <td>FA0007801</td>\n",
       "      <td>BAITH AL HALAL</td>\n",
       "      <td>CA</td>\n",
       "      <td>91344</td>\n",
       "      <td>A</td>\n",
       "      <td>OW0031150</td>\n",
       "      <td>SABIR MOHAMMAD SHAHID</td>\n",
       "      <td>FOOD MKT RETAIL (25-1,999 SF) HIGH RISK</td>\n",
       "      <td>1612</td>\n",
       "      <td>BAITH AL HALAL</td>\n",
       "      <td>INACTIVE</td>\n",
       "      <td>PR0036723</td>\n",
       "      <td>95</td>\n",
       "      <td>DAL2PIKJU</td>\n",
       "      <td>1</td>\n",
       "      <td>ROUTINE INSPECTION</td>\n",
       "    </tr>\n",
       "    <tr>\n",
       "      <th>3</th>\n",
       "      <td>2017-08-15</td>\n",
       "      <td>EE0000971</td>\n",
       "      <td>44455 VALLEY CENTRAL WAY</td>\n",
       "      <td>LANCASTER</td>\n",
       "      <td>FA0013858</td>\n",
       "      <td>FOOD 4 LESS #306</td>\n",
       "      <td>CA</td>\n",
       "      <td>93536</td>\n",
       "      <td>A</td>\n",
       "      <td>OW0012108</td>\n",
       "      <td>FOOD 4 LESS, INC.</td>\n",
       "      <td>RESTAURANT (0-30) SEATS HIGH RISK</td>\n",
       "      <td>1632</td>\n",
       "      <td>FOOD 4 LESS DELI/BAKERY#306</td>\n",
       "      <td>ACTIVE</td>\n",
       "      <td>PR0039905</td>\n",
       "      <td>98</td>\n",
       "      <td>DA0ZMAJXZ</td>\n",
       "      <td>1</td>\n",
       "      <td>ROUTINE INSPECTION</td>\n",
       "    </tr>\n",
       "    <tr>\n",
       "      <th>4</th>\n",
       "      <td>2016-09-26</td>\n",
       "      <td>EE0000145</td>\n",
       "      <td>11700 SOUTH ST</td>\n",
       "      <td>ARTESIA</td>\n",
       "      <td>FA0179671</td>\n",
       "      <td>PHO LITTLE SAIGON</td>\n",
       "      <td>CA</td>\n",
       "      <td>90701</td>\n",
       "      <td>A</td>\n",
       "      <td>OW0185167</td>\n",
       "      <td>PHO SOUTH ST INC</td>\n",
       "      <td>RESTAURANT (61-150) SEATS HIGH RISK</td>\n",
       "      <td>1638</td>\n",
       "      <td>PHO LITTLE SAIGON</td>\n",
       "      <td>ACTIVE</td>\n",
       "      <td>PR0173311</td>\n",
       "      <td>96</td>\n",
       "      <td>DA41DBXA2</td>\n",
       "      <td>1</td>\n",
       "      <td>ROUTINE INSPECTION</td>\n",
       "    </tr>\n",
       "  </tbody>\n",
       "</table>\n",
       "</div>"
      ],
      "text/plain": [
       "  activity_date employee_id          facility_address  facility_city  \\\n",
       "0    2017-05-09   EE0000593       17660 CHATSWORTH ST  GRANADA HILLS   \n",
       "1    2017-04-10   EE0000126    3615 PACIFIC COAST HWY       TORRANCE   \n",
       "2    2017-04-04   EE0000593       17515 CHATSWORTH ST  GRANADA HILLS   \n",
       "3    2017-08-15   EE0000971  44455 VALLEY CENTRAL WAY      LANCASTER   \n",
       "4    2016-09-26   EE0000145            11700 SOUTH ST        ARTESIA   \n",
       "\n",
       "  facility_id               facility_name facility_state facility_zip grade  \\\n",
       "0   FA0175397  HOVIK'S FAMOUS MEAT & DELI             CA        91344     A   \n",
       "1   FA0242138              SHAKEY'S PIZZA             CA        90505     A   \n",
       "2   FA0007801              BAITH AL HALAL             CA        91344     A   \n",
       "3   FA0013858            FOOD 4 LESS #306             CA        93536     A   \n",
       "4   FA0179671           PHO LITTLE SAIGON             CA        90701     A   \n",
       "\n",
       "    owner_id                      owner_name  \\\n",
       "0  OW0181955  JOHN'S FAMOUS MEAT & DELI INC.   \n",
       "1  OW0237843                        SCO, LLC   \n",
       "2  OW0031150           SABIR MOHAMMAD SHAHID   \n",
       "3  OW0012108               FOOD 4 LESS, INC.   \n",
       "4  OW0185167                PHO SOUTH ST INC   \n",
       "\n",
       "                            pe_description  program_element_pe  \\\n",
       "0  FOOD MKT RETAIL (25-1,999 SF) HIGH RISK                1612   \n",
       "1      RESTAURANT (61-150) SEATS HIGH RISK                1638   \n",
       "2  FOOD MKT RETAIL (25-1,999 SF) HIGH RISK                1612   \n",
       "3        RESTAURANT (0-30) SEATS HIGH RISK                1632   \n",
       "4      RESTAURANT (61-150) SEATS HIGH RISK                1638   \n",
       "\n",
       "                  program_name program_status  record_id  score serial_number  \\\n",
       "0   HOVIK'S FAMOUS MEAT & DELI         ACTIVE  PR0168541     98     DAHDRUQZO   \n",
       "1               SHAKEY'S PIZZA         ACTIVE  PR0190290     94     DAL3SBUE0   \n",
       "2               BAITH AL HALAL       INACTIVE  PR0036723     95     DAL2PIKJU   \n",
       "3  FOOD 4 LESS DELI/BAKERY#306         ACTIVE  PR0039905     98     DA0ZMAJXZ   \n",
       "4            PHO LITTLE SAIGON         ACTIVE  PR0173311     96     DA41DBXA2   \n",
       "\n",
       "   service_code service_description  \n",
       "0             1  ROUTINE INSPECTION  \n",
       "1             1  ROUTINE INSPECTION  \n",
       "2             1  ROUTINE INSPECTION  \n",
       "3             1  ROUTINE INSPECTION  \n",
       "4             1  ROUTINE INSPECTION  "
      ]
     },
     "execution_count": 3,
     "metadata": {},
     "output_type": "execute_result"
    }
   ],
   "source": [
    "import pandas as pd\n",
    "data = pd.read_csv('inspections.csv')\n",
    "data.head()"
   ]
  },
  {
   "cell_type": "code",
   "execution_count": 5,
   "metadata": {},
   "outputs": [
    {
     "name": "stdout",
     "output_type": "stream",
     "text": [
      "                  score\n",
      "employee_id            \n",
      "EE0000252    100.000000\n",
      "EE0000284     98.651515\n",
      "EE0000259     98.133333\n",
      "                 score\n",
      "employee_id           \n",
      "EE0000821    88.893741\n",
      "EE0000699    90.188718\n",
      "EE0000719    90.195122\n"
     ]
    }
   ],
   "source": [
    "# Get mean of all scores per employee_id\n",
    "employee_score = data.loc[:, ['employee_id','score']].groupby(['employee_id']).mean();\n",
    "\n",
    "# Sort them descending and pick top 3\n",
    "top_3 = employee_score.sort_values(by=['score'], ascending=False).head(3);\n",
    "print(top_3)\n",
    "\n",
    "# Sort them asecnding and pick top 3\n",
    "bottom_3 = employee_score.sort_values(by=['score'], ascending=True).head(3);\n",
    "print(bottom_3)"
   ]
  },
  {
   "cell_type": "code",
   "execution_count": 7,
   "metadata": {
    "scrolled": false
   },
   "outputs": [
    {
     "name": "stdout",
     "output_type": "stream",
     "text": [
      "                   score\n",
      "facility_city           \n",
      "SOUTH SAN GABRIEL   99.5\n",
      "                score\n",
      "facility_city        \n",
      "LEONA VALLEY   87.375\n"
     ]
    }
   ],
   "source": [
    "# Localize the dataset to only columns that matter\n",
    "facilities = data.loc[:, ['facility_city','facility_id','facility_name','score']];\n",
    "\n",
    "# Get mean scores per city\n",
    "city_scores = facilities.groupby(['facility_city']).mean();\n",
    "\n",
    "# Top most city for mean scores\n",
    "top_city = city_scores.sort_values(by='score', ascending=False).head(1)\n",
    "print(top_city)\n",
    "\n",
    "# Bottom city for mean scores\n",
    "bottom_city = city_scores.sort_values(by='score', ascending=True).head(1)\n",
    "print(bottom_city)"
   ]
  },
  {
   "cell_type": "code",
   "execution_count": 8,
   "metadata": {},
   "outputs": [
    {
     "name": "stdout",
     "output_type": "stream",
     "text": [
      "       facility_name facility_id  score employee_id activity_date\n",
      "188           SUBWAY   FA0034716     95   EE0000923    2015-11-04\n",
      "7440          SUBWAY   FA0034716     96   EE0000923    2017-01-18\n",
      "59423         SUBWAY   FA0034716     95   EE0000923    2016-08-02\n",
      "64055         SUBWAY   FA0034716     90   EE0000923    2017-10-23\n",
      "101732        SUBWAY   FA0034716     93   EE0000923    2016-04-05\n"
     ]
    }
   ],
   "source": [
    "city_facilities = data.loc[:,['facility_name', 'facility_id','score','employee_id','activity_date']]\n",
    "print(city_facilities[(city_facilities['facility_name'] == 'SUBWAY') & (city_facilities['facility_id'] == 'FA0034716')])"
   ]
  },
  {
   "cell_type": "code",
   "execution_count": 9,
   "metadata": {},
   "outputs": [
    {
     "name": "stdout",
     "output_type": "stream",
     "text": [
      "               count\n",
      "facility_name       \n",
      "SUBWAY           131\n"
     ]
    }
   ],
   "source": [
    "# localize data to useful columns\n",
    "# drop duplicate records of scores for same location at a different date.\n",
    "# group by facility_name to count unique locations per facility_name\n",
    "# sort and pick top\n",
    "top_facility = facilities.loc[:,['facility_name', 'facility_id']]\\\n",
    "                    .drop_duplicates()\\\n",
    "                    .groupby('facility_name')\\\n",
    "                    .count()\\\n",
    "                    .rename(columns={'facility_id':'count'})\\\n",
    "                    .sort_values(by='count', ascending=False)\\\n",
    "                    .head(1)\n",
    "\n",
    "print(top_facility)"
   ]
  },
  {
   "cell_type": "code",
   "execution_count": 61,
   "metadata": {},
   "outputs": [
    {
     "name": "stdout",
     "output_type": "stream",
     "text": [
      "                  score\n",
      "facility_city          \n",
      "PEARBLOSSOM    5.083333\n",
      "               score\n",
      "facility_city       \n",
      "VALLEY GLEN     -7.5\n"
     ]
    },
    {
     "data": {
      "text/plain": [
       "<matplotlib.axes._subplots.AxesSubplot at 0x1210c77f0>"
      ]
     },
     "execution_count": 61,
     "metadata": {},
     "output_type": "execute_result"
    },
    {
     "data": {
      "image/png": "[encoded data removed]",
      "text/plain": [
       "<Figure size 432x288 with 1 Axes>"
      ]
     },
     "metadata": {
      "needs_background": "light"
     },
     "output_type": "display_data"
    }
   ],
   "source": [
    "# Extract city's score with date\n",
    "%matplotlib inline\n",
    "\n",
    "city_scores = data.loc[:,['activity_date','facility_city','score']];\n",
    "\n",
    "# Convert the date to datetime object\n",
    "city_scores['activity_date'] = pd.to_datetime(city_scores['activity_date']);\n",
    "\n",
    "# For scores that are missing, use the average of the score for the city\n",
    "city_scores['score'] = city_scores['score'].fillna(city_scores.groupby(['facility_city']).mean().to_dict());\n",
    "\n",
    "# Aggregate by year, city \n",
    "city_annual_mean = city_scores.groupby(['facility_city', city_scores['activity_date'].dt.year]).mean().reset_index()\n",
    "\n",
    "city_improvization = city_annual_mean.loc[:, ['facility_city','score']].groupby('facility_city').agg(lambda x:x.iloc[-1] - x.iloc[0]).sort_values(by='score', ascending=False)\n",
    "print(city_improvization.head(1))\n",
    "print(city_improvization.tail(1))\n",
    "\n",
    "\n",
    "# Using Matplotlib to plot improvizations of cities.\n",
    "city_improvization.plot()\n"
   ]
  },
  {
   "cell_type": "code",
   "execution_count": 343,
   "metadata": {},
   "outputs": [
    {
     "name": "stdout",
     "output_type": "stream",
     "text": [
      "                                  facility_id   score\n",
      "service_description                                  \n",
      "OWNER INITIATED ROUTINE INSPECT.         2908    2908\n",
      "ROUTINE INSPECTION                     188463  188463\n",
      "               score_x  score_y\n",
      "facility_id                    \n",
      "FA0001156    94.000000     99.0\n",
      "FA0001833    93.500000     97.0\n",
      "FA0002011    85.333333     91.0\n",
      "FA0002140    90.500000     98.0\n",
      "FA0002149    89.333333     96.0\n",
      "2247\n",
      "2707\n",
      "83.00701884004432\n"
     ]
    }
   ],
   "source": [
    "# limiting dataset to necessary columns\n",
    "establishments = data.loc[:, ['facility_id','score','service_description']]\n",
    "\n",
    "# Get MEAN of the scores obtained by ROUTINE INSPECTION\n",
    "routine_inspections = establishments[establishments['service_description'] == 'ROUTINE INSPECTION']\\\n",
    "                        .groupby('facility_id')\\\n",
    "                        .mean()\n",
    "\n",
    "# Get MEAN of all scores obtained by OWNER INITIATED ROUTINE INSPECTION\n",
    "owner_initiated_inspections = establishments[establishments['service_description'] == 'OWNER INITIATED ROUTINE INSPECT.']\\\n",
    "                                .groupby('facility_id')\\\n",
    "                                .mean()\n",
    "\n",
    "# An INNER JOIN on those two sets will give mean scores obtained by establishments that have had ROUTINE INSPECTION \n",
    "# as well as OWNER INITIATED ROUTINE INSPECTION\n",
    "inspections = pd.merge(routine_inspections, owner_initiated_inspections, how='inner', on=['facility_id'])\n",
    "print(inspections.head(5))\n",
    "\n",
    "# PERCENTAGE of establihments with higher scores on score_y (owner_initiated_inspections)\n",
    "percent_owner_higher = inspections.loc[inspections['score_y'] > inspections['score_x']].shape[0] * 100 / inspections.shape[0]\n",
    "print(percent_owner_higher)\n"
   ]
  },
  {
   "cell_type": "code",
   "execution_count": null,
   "metadata": {},
   "outputs": [],
   "source": []
  }
 ],
 "metadata": {
  "kernelspec": {
   "display_name": "Python 3",
   "language": "python",
   "name": "python3"
  },
  "language_info": {
   "codemirror_mode": {
    "name": "ipython",
    "version": 3
   },
   "file_extension": ".py",
   "mimetype": "text/x-python",
   "name": "python",
   "nbconvert_exporter": "python",
   "pygments_lexer": "ipython3",
   "version": "3.7.3"
  }
 },
 "nbformat": 4,
 "nbformat_minor": 2
}
